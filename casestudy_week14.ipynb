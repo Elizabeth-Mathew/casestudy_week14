{
 "cells": [
  {
   "cell_type": "markdown",
   "id": "0ccd0c88",
   "metadata": {},
   "source": [
    "# Case study on Unsupervised Learning"
   ]
  },
  {
   "cell_type": "code",
   "execution_count": 110,
   "id": "60c60600",
   "metadata": {},
   "outputs": [],
   "source": [
    "import numpy as np\n",
    "import pandas as pd\n",
    "import seaborn as sns\n",
    "import matplotlib.pyplot as plt\n",
    "\n",
    "import warnings\n",
    "warnings.filterwarnings('ignore')"
   ]
  },
  {
   "cell_type": "code",
   "execution_count": 111,
   "id": "f6da535c",
   "metadata": {},
   "outputs": [
    {
     "data": {
      "text/html": [
       "<div>\n",
       "<style scoped>\n",
       "    .dataframe tbody tr th:only-of-type {\n",
       "        vertical-align: middle;\n",
       "    }\n",
       "\n",
       "    .dataframe tbody tr th {\n",
       "        vertical-align: top;\n",
       "    }\n",
       "\n",
       "    .dataframe thead th {\n",
       "        text-align: right;\n",
       "    }\n",
       "</style>\n",
       "<table border=\"1\" class=\"dataframe\">\n",
       "  <thead>\n",
       "    <tr style=\"text-align: right;\">\n",
       "      <th></th>\n",
       "      <th>Alcohol</th>\n",
       "      <th>Malic_Acid</th>\n",
       "      <th>Ash</th>\n",
       "      <th>Ash_Alcanity</th>\n",
       "      <th>Magnesium</th>\n",
       "      <th>Total_Phenols</th>\n",
       "      <th>Flavanoids</th>\n",
       "      <th>Nonflavanoid_Phenols</th>\n",
       "      <th>Proanthocyanins</th>\n",
       "      <th>Color_Intensity</th>\n",
       "      <th>Hue</th>\n",
       "      <th>OD280</th>\n",
       "      <th>Proline</th>\n",
       "    </tr>\n",
       "  </thead>\n",
       "  <tbody>\n",
       "    <tr>\n",
       "      <th>0</th>\n",
       "      <td>14.23</td>\n",
       "      <td>1.71</td>\n",
       "      <td>2.43</td>\n",
       "      <td>15.6</td>\n",
       "      <td>127</td>\n",
       "      <td>2.80</td>\n",
       "      <td>3.06</td>\n",
       "      <td>0.28</td>\n",
       "      <td>2.29</td>\n",
       "      <td>5.64</td>\n",
       "      <td>1.04</td>\n",
       "      <td>3.92</td>\n",
       "      <td>1065</td>\n",
       "    </tr>\n",
       "    <tr>\n",
       "      <th>1</th>\n",
       "      <td>13.20</td>\n",
       "      <td>1.78</td>\n",
       "      <td>2.14</td>\n",
       "      <td>11.2</td>\n",
       "      <td>100</td>\n",
       "      <td>2.65</td>\n",
       "      <td>2.76</td>\n",
       "      <td>0.26</td>\n",
       "      <td>1.28</td>\n",
       "      <td>4.38</td>\n",
       "      <td>1.05</td>\n",
       "      <td>3.40</td>\n",
       "      <td>1050</td>\n",
       "    </tr>\n",
       "    <tr>\n",
       "      <th>2</th>\n",
       "      <td>13.16</td>\n",
       "      <td>2.36</td>\n",
       "      <td>2.67</td>\n",
       "      <td>18.6</td>\n",
       "      <td>101</td>\n",
       "      <td>2.80</td>\n",
       "      <td>3.24</td>\n",
       "      <td>0.30</td>\n",
       "      <td>2.81</td>\n",
       "      <td>5.68</td>\n",
       "      <td>1.03</td>\n",
       "      <td>3.17</td>\n",
       "      <td>1185</td>\n",
       "    </tr>\n",
       "    <tr>\n",
       "      <th>3</th>\n",
       "      <td>14.37</td>\n",
       "      <td>1.95</td>\n",
       "      <td>2.50</td>\n",
       "      <td>16.8</td>\n",
       "      <td>113</td>\n",
       "      <td>3.85</td>\n",
       "      <td>3.49</td>\n",
       "      <td>0.24</td>\n",
       "      <td>2.18</td>\n",
       "      <td>7.80</td>\n",
       "      <td>0.86</td>\n",
       "      <td>3.45</td>\n",
       "      <td>1480</td>\n",
       "    </tr>\n",
       "    <tr>\n",
       "      <th>4</th>\n",
       "      <td>13.24</td>\n",
       "      <td>2.59</td>\n",
       "      <td>2.87</td>\n",
       "      <td>21.0</td>\n",
       "      <td>118</td>\n",
       "      <td>2.80</td>\n",
       "      <td>2.69</td>\n",
       "      <td>0.39</td>\n",
       "      <td>1.82</td>\n",
       "      <td>4.32</td>\n",
       "      <td>1.04</td>\n",
       "      <td>2.93</td>\n",
       "      <td>735</td>\n",
       "    </tr>\n",
       "  </tbody>\n",
       "</table>\n",
       "</div>"
      ],
      "text/plain": [
       "   Alcohol  Malic_Acid   Ash  Ash_Alcanity  Magnesium  Total_Phenols  \\\n",
       "0    14.23        1.71  2.43          15.6        127           2.80   \n",
       "1    13.20        1.78  2.14          11.2        100           2.65   \n",
       "2    13.16        2.36  2.67          18.6        101           2.80   \n",
       "3    14.37        1.95  2.50          16.8        113           3.85   \n",
       "4    13.24        2.59  2.87          21.0        118           2.80   \n",
       "\n",
       "   Flavanoids  Nonflavanoid_Phenols  Proanthocyanins  Color_Intensity   Hue  \\\n",
       "0        3.06                  0.28             2.29             5.64  1.04   \n",
       "1        2.76                  0.26             1.28             4.38  1.05   \n",
       "2        3.24                  0.30             2.81             5.68  1.03   \n",
       "3        3.49                  0.24             2.18             7.80  0.86   \n",
       "4        2.69                  0.39             1.82             4.32  1.04   \n",
       "\n",
       "   OD280  Proline  \n",
       "0   3.92     1065  \n",
       "1   3.40     1050  \n",
       "2   3.17     1185  \n",
       "3   3.45     1480  \n",
       "4   2.93      735  "
      ]
     },
     "execution_count": 111,
     "metadata": {},
     "output_type": "execute_result"
    }
   ],
   "source": [
    "#reading the dataset\n",
    "data = pd.read_csv('Wine.csv')\n",
    "data.head()"
   ]
  },
  {
   "cell_type": "code",
   "execution_count": 4,
   "id": "b06152b1",
   "metadata": {},
   "outputs": [
    {
     "data": {
      "text/plain": [
       "(178, 13)"
      ]
     },
     "execution_count": 4,
     "metadata": {},
     "output_type": "execute_result"
    }
   ],
   "source": [
    "data.shape"
   ]
  },
  {
   "cell_type": "raw",
   "id": "1b388d8e",
   "metadata": {},
   "source": [
    "Dataset has 178 rows and 13 columns"
   ]
  },
  {
   "cell_type": "code",
   "execution_count": 5,
   "id": "ede7ef53",
   "metadata": {},
   "outputs": [
    {
     "data": {
      "text/html": [
       "<div>\n",
       "<style scoped>\n",
       "    .dataframe tbody tr th:only-of-type {\n",
       "        vertical-align: middle;\n",
       "    }\n",
       "\n",
       "    .dataframe tbody tr th {\n",
       "        vertical-align: top;\n",
       "    }\n",
       "\n",
       "    .dataframe thead th {\n",
       "        text-align: right;\n",
       "    }\n",
       "</style>\n",
       "<table border=\"1\" class=\"dataframe\">\n",
       "  <thead>\n",
       "    <tr style=\"text-align: right;\">\n",
       "      <th></th>\n",
       "      <th>Alcohol</th>\n",
       "      <th>Malic_Acid</th>\n",
       "      <th>Ash</th>\n",
       "      <th>Ash_Alcanity</th>\n",
       "      <th>Magnesium</th>\n",
       "      <th>Total_Phenols</th>\n",
       "      <th>Flavanoids</th>\n",
       "      <th>Nonflavanoid_Phenols</th>\n",
       "      <th>Proanthocyanins</th>\n",
       "      <th>Color_Intensity</th>\n",
       "      <th>Hue</th>\n",
       "      <th>OD280</th>\n",
       "      <th>Proline</th>\n",
       "    </tr>\n",
       "  </thead>\n",
       "  <tbody>\n",
       "    <tr>\n",
       "      <th>count</th>\n",
       "      <td>178.000000</td>\n",
       "      <td>178.000000</td>\n",
       "      <td>178.000000</td>\n",
       "      <td>178.000000</td>\n",
       "      <td>178.000000</td>\n",
       "      <td>178.000000</td>\n",
       "      <td>178.000000</td>\n",
       "      <td>178.000000</td>\n",
       "      <td>178.000000</td>\n",
       "      <td>178.000000</td>\n",
       "      <td>178.000000</td>\n",
       "      <td>178.000000</td>\n",
       "      <td>178.000000</td>\n",
       "    </tr>\n",
       "    <tr>\n",
       "      <th>mean</th>\n",
       "      <td>13.000618</td>\n",
       "      <td>2.336348</td>\n",
       "      <td>2.366517</td>\n",
       "      <td>19.494944</td>\n",
       "      <td>99.741573</td>\n",
       "      <td>2.295112</td>\n",
       "      <td>2.029270</td>\n",
       "      <td>0.361854</td>\n",
       "      <td>1.590899</td>\n",
       "      <td>5.058090</td>\n",
       "      <td>0.957449</td>\n",
       "      <td>2.611685</td>\n",
       "      <td>746.893258</td>\n",
       "    </tr>\n",
       "    <tr>\n",
       "      <th>std</th>\n",
       "      <td>0.811827</td>\n",
       "      <td>1.117146</td>\n",
       "      <td>0.274344</td>\n",
       "      <td>3.339564</td>\n",
       "      <td>14.282484</td>\n",
       "      <td>0.625851</td>\n",
       "      <td>0.998859</td>\n",
       "      <td>0.124453</td>\n",
       "      <td>0.572359</td>\n",
       "      <td>2.318286</td>\n",
       "      <td>0.228572</td>\n",
       "      <td>0.709990</td>\n",
       "      <td>314.907474</td>\n",
       "    </tr>\n",
       "    <tr>\n",
       "      <th>min</th>\n",
       "      <td>11.030000</td>\n",
       "      <td>0.740000</td>\n",
       "      <td>1.360000</td>\n",
       "      <td>10.600000</td>\n",
       "      <td>70.000000</td>\n",
       "      <td>0.980000</td>\n",
       "      <td>0.340000</td>\n",
       "      <td>0.130000</td>\n",
       "      <td>0.410000</td>\n",
       "      <td>1.280000</td>\n",
       "      <td>0.480000</td>\n",
       "      <td>1.270000</td>\n",
       "      <td>278.000000</td>\n",
       "    </tr>\n",
       "    <tr>\n",
       "      <th>25%</th>\n",
       "      <td>12.362500</td>\n",
       "      <td>1.602500</td>\n",
       "      <td>2.210000</td>\n",
       "      <td>17.200000</td>\n",
       "      <td>88.000000</td>\n",
       "      <td>1.742500</td>\n",
       "      <td>1.205000</td>\n",
       "      <td>0.270000</td>\n",
       "      <td>1.250000</td>\n",
       "      <td>3.220000</td>\n",
       "      <td>0.782500</td>\n",
       "      <td>1.937500</td>\n",
       "      <td>500.500000</td>\n",
       "    </tr>\n",
       "    <tr>\n",
       "      <th>50%</th>\n",
       "      <td>13.050000</td>\n",
       "      <td>1.865000</td>\n",
       "      <td>2.360000</td>\n",
       "      <td>19.500000</td>\n",
       "      <td>98.000000</td>\n",
       "      <td>2.355000</td>\n",
       "      <td>2.135000</td>\n",
       "      <td>0.340000</td>\n",
       "      <td>1.555000</td>\n",
       "      <td>4.690000</td>\n",
       "      <td>0.965000</td>\n",
       "      <td>2.780000</td>\n",
       "      <td>673.500000</td>\n",
       "    </tr>\n",
       "    <tr>\n",
       "      <th>75%</th>\n",
       "      <td>13.677500</td>\n",
       "      <td>3.082500</td>\n",
       "      <td>2.557500</td>\n",
       "      <td>21.500000</td>\n",
       "      <td>107.000000</td>\n",
       "      <td>2.800000</td>\n",
       "      <td>2.875000</td>\n",
       "      <td>0.437500</td>\n",
       "      <td>1.950000</td>\n",
       "      <td>6.200000</td>\n",
       "      <td>1.120000</td>\n",
       "      <td>3.170000</td>\n",
       "      <td>985.000000</td>\n",
       "    </tr>\n",
       "    <tr>\n",
       "      <th>max</th>\n",
       "      <td>14.830000</td>\n",
       "      <td>5.800000</td>\n",
       "      <td>3.230000</td>\n",
       "      <td>30.000000</td>\n",
       "      <td>162.000000</td>\n",
       "      <td>3.880000</td>\n",
       "      <td>5.080000</td>\n",
       "      <td>0.660000</td>\n",
       "      <td>3.580000</td>\n",
       "      <td>13.000000</td>\n",
       "      <td>1.710000</td>\n",
       "      <td>4.000000</td>\n",
       "      <td>1680.000000</td>\n",
       "    </tr>\n",
       "  </tbody>\n",
       "</table>\n",
       "</div>"
      ],
      "text/plain": [
       "          Alcohol  Malic_Acid         Ash  Ash_Alcanity   Magnesium  \\\n",
       "count  178.000000  178.000000  178.000000    178.000000  178.000000   \n",
       "mean    13.000618    2.336348    2.366517     19.494944   99.741573   \n",
       "std      0.811827    1.117146    0.274344      3.339564   14.282484   \n",
       "min     11.030000    0.740000    1.360000     10.600000   70.000000   \n",
       "25%     12.362500    1.602500    2.210000     17.200000   88.000000   \n",
       "50%     13.050000    1.865000    2.360000     19.500000   98.000000   \n",
       "75%     13.677500    3.082500    2.557500     21.500000  107.000000   \n",
       "max     14.830000    5.800000    3.230000     30.000000  162.000000   \n",
       "\n",
       "       Total_Phenols  Flavanoids  Nonflavanoid_Phenols  Proanthocyanins  \\\n",
       "count     178.000000  178.000000            178.000000       178.000000   \n",
       "mean        2.295112    2.029270              0.361854         1.590899   \n",
       "std         0.625851    0.998859              0.124453         0.572359   \n",
       "min         0.980000    0.340000              0.130000         0.410000   \n",
       "25%         1.742500    1.205000              0.270000         1.250000   \n",
       "50%         2.355000    2.135000              0.340000         1.555000   \n",
       "75%         2.800000    2.875000              0.437500         1.950000   \n",
       "max         3.880000    5.080000              0.660000         3.580000   \n",
       "\n",
       "       Color_Intensity         Hue       OD280      Proline  \n",
       "count       178.000000  178.000000  178.000000   178.000000  \n",
       "mean          5.058090    0.957449    2.611685   746.893258  \n",
       "std           2.318286    0.228572    0.709990   314.907474  \n",
       "min           1.280000    0.480000    1.270000   278.000000  \n",
       "25%           3.220000    0.782500    1.937500   500.500000  \n",
       "50%           4.690000    0.965000    2.780000   673.500000  \n",
       "75%           6.200000    1.120000    3.170000   985.000000  \n",
       "max          13.000000    1.710000    4.000000  1680.000000  "
      ]
     },
     "execution_count": 5,
     "metadata": {},
     "output_type": "execute_result"
    }
   ],
   "source": [
    "data.describe()"
   ]
  },
  {
   "cell_type": "code",
   "execution_count": 6,
   "id": "4a3efce0",
   "metadata": {},
   "outputs": [
    {
     "name": "stdout",
     "output_type": "stream",
     "text": [
      "<class 'pandas.core.frame.DataFrame'>\n",
      "RangeIndex: 178 entries, 0 to 177\n",
      "Data columns (total 13 columns):\n",
      " #   Column                Non-Null Count  Dtype  \n",
      "---  ------                --------------  -----  \n",
      " 0   Alcohol               178 non-null    float64\n",
      " 1   Malic_Acid            178 non-null    float64\n",
      " 2   Ash                   178 non-null    float64\n",
      " 3   Ash_Alcanity          178 non-null    float64\n",
      " 4   Magnesium             178 non-null    int64  \n",
      " 5   Total_Phenols         178 non-null    float64\n",
      " 6   Flavanoids            178 non-null    float64\n",
      " 7   Nonflavanoid_Phenols  178 non-null    float64\n",
      " 8   Proanthocyanins       178 non-null    float64\n",
      " 9   Color_Intensity       178 non-null    float64\n",
      " 10  Hue                   178 non-null    float64\n",
      " 11  OD280                 178 non-null    float64\n",
      " 12  Proline               178 non-null    int64  \n",
      "dtypes: float64(11), int64(2)\n",
      "memory usage: 18.2 KB\n"
     ]
    }
   ],
   "source": [
    "data.info()"
   ]
  },
  {
   "cell_type": "raw",
   "id": "1277c933",
   "metadata": {},
   "source": [
    "Dataset has int and float types of data."
   ]
  },
  {
   "cell_type": "code",
   "execution_count": 7,
   "id": "e80095f5",
   "metadata": {},
   "outputs": [
    {
     "data": {
      "text/plain": [
       "Alcohol                 0\n",
       "Malic_Acid              0\n",
       "Ash                     0\n",
       "Ash_Alcanity            0\n",
       "Magnesium               0\n",
       "Total_Phenols           0\n",
       "Flavanoids              0\n",
       "Nonflavanoid_Phenols    0\n",
       "Proanthocyanins         0\n",
       "Color_Intensity         0\n",
       "Hue                     0\n",
       "OD280                   0\n",
       "Proline                 0\n",
       "dtype: int64"
      ]
     },
     "execution_count": 7,
     "metadata": {},
     "output_type": "execute_result"
    }
   ],
   "source": [
    "data.isnull().sum()"
   ]
  },
  {
   "cell_type": "raw",
   "id": "4ac73691",
   "metadata": {},
   "source": [
    "Dataset has no null values."
   ]
  },
  {
   "cell_type": "code",
   "execution_count": 113,
   "id": "a76700bb",
   "metadata": {},
   "outputs": [
    {
     "data": {
      "text/plain": [
       "Alcohol                 float64\n",
       "Malic_Acid              float64\n",
       "Ash                     float64\n",
       "Ash_Alcanity            float64\n",
       "Magnesium                 int64\n",
       "Total_Phenols           float64\n",
       "Flavanoids              float64\n",
       "Nonflavanoid_Phenols    float64\n",
       "Proanthocyanins         float64\n",
       "Color_Intensity         float64\n",
       "Hue                     float64\n",
       "OD280                   float64\n",
       "Proline                   int64\n",
       "dtype: object"
      ]
     },
     "execution_count": 113,
     "metadata": {},
     "output_type": "execute_result"
    }
   ],
   "source": [
    "data.dtypes"
   ]
  },
  {
   "cell_type": "markdown",
   "id": "479c23b3",
   "metadata": {},
   "source": [
    "## Preprocessing"
   ]
  },
  {
   "cell_type": "markdown",
   "id": "fcd35182",
   "metadata": {},
   "source": [
    "### finding outliers"
   ]
  },
  {
   "cell_type": "code",
   "execution_count": 114,
   "id": "aa05a362",
   "metadata": {},
   "outputs": [
    {
     "data": {
      "image/png": "[encoded data removed]",
      "text/plain": [
       "<Figure size 1080x540 with 9 Axes>"
      ]
     },
     "metadata": {},
     "output_type": "display_data"
    }
   ],
   "source": [
    "fig, axs = plt.subplots(3,3, figsize = (15,7.5))\n",
    "plt1 = sns.boxplot(data['Alcohol'], ax = axs[0,0])\n",
    "plt2 = sns.boxplot(data['Malic_Acid'], ax = axs[0,1])\n",
    "plt3 = sns.boxplot(data['Ash'], ax = axs[0,2])\n",
    "plt4 = sns.boxplot(data['Ash_Alcanity'], ax = axs[1,0])\n",
    "plt5 = sns.boxplot(data['Magnesium'], ax = axs[1,1])\n",
    "plt6 = sns.boxplot(data['Total_Phenols'], ax = axs[1,2])\n",
    "plt7 = sns.boxplot(data['Flavanoids'], ax = axs[2,0])\n",
    "plt8 = sns.boxplot(data['Nonflavanoid_Phenols'], ax = axs[2,1])\n",
    "plt9 = sns.boxplot(data['Proanthocyanins'], ax = axs[2,2])\n",
    "plt10 = sns.boxplot(data['Color_Intensity'], ax = axs[1,2])\n",
    "plt11 = sns.boxplot(data['Hue'], ax = axs[2,0])\n",
    "plt12 = sns.boxplot(data['OD280'], ax = axs[2,1])\n",
    "plt13 = sns.boxplot(data['Proline'], ax = axs[2,2])\n",
    "\n",
    "plt.tight_layout()"
   ]
  },
  {
   "cell_type": "markdown",
   "id": "89a00f00",
   "metadata": {},
   "source": [
    "# Removing outliers"
   ]
  },
  {
   "cell_type": "code",
   "execution_count": 115,
   "id": "8a150612",
   "metadata": {},
   "outputs": [],
   "source": [
    "# define a function called 'outliers' which returns a list of outliers\n",
    "def outliers(df,ft):\n",
    "    Q1=df[ft].quantile(0.25)\n",
    "    Q3=df[ft].quantile(0.75)\n",
    "    IQR=Q3-Q1\n",
    "    lower=Q1-1.5*IQR\n",
    "    upper=Q3+1.5*IQR\n",
    "#create list to store indexes of outliers\n",
    "    ls= df.index[(df[ft]<lower) | (df[ft]>upper)]\n",
    "    return ls"
   ]
  },
  {
   "cell_type": "code",
   "execution_count": 116,
   "id": "e47c9a96",
   "metadata": {},
   "outputs": [
    {
     "data": {
      "text/plain": [
       "Index(['Alcohol', 'Malic_Acid', 'Ash', 'Ash_Alcanity', 'Magnesium',\n",
       "       'Total_Phenols', 'Flavanoids', 'Nonflavanoid_Phenols',\n",
       "       'Proanthocyanins', 'Color_Intensity', 'Hue', 'OD280', 'Proline'],\n",
       "      dtype='object')"
      ]
     },
     "execution_count": 116,
     "metadata": {},
     "output_type": "execute_result"
    }
   ],
   "source": [
    "data.columns"
   ]
  },
  {
   "cell_type": "code",
   "execution_count": 117,
   "id": "d2238233",
   "metadata": {},
   "outputs": [
    {
     "data": {
      "text/plain": [
       "[123,\n",
       " 137,\n",
       " 173,\n",
       " 25,\n",
       " 59,\n",
       " 121,\n",
       " 59,\n",
       " 73,\n",
       " 121,\n",
       " 127,\n",
       " 69,\n",
       " 73,\n",
       " 78,\n",
       " 95,\n",
       " 151,\n",
       " 158,\n",
       " 159,\n",
       " 166]"
      ]
     },
     "execution_count": 117,
     "metadata": {},
     "output_type": "execute_result"
    }
   ],
   "source": [
    "#create an empty list to store indexes from multiple columns\n",
    "index_list=[]\n",
    "for feature in ['Malic_Acid', 'Ash','Ash_Alcanity','Magnesium','Color_Intensity','Proline']:\n",
    "    index_list.extend(outliers(data,feature))\n",
    "index_list"
   ]
  },
  {
   "cell_type": "code",
   "execution_count": 118,
   "id": "04568def",
   "metadata": {},
   "outputs": [],
   "source": [
    "#define a function called 'remove' which returns a cleaned data without outliers\n",
    "def remove(df,ls):\n",
    "    ls=sorted(set(ls)) #to sort and remove multiple copies(to get unique)\n",
    "    df=df.drop(ls)\n",
    "    return df"
   ]
  },
  {
   "cell_type": "code",
   "execution_count": 119,
   "id": "3256c75d",
   "metadata": {},
   "outputs": [
    {
     "data": {
      "text/plain": [
       "(178, 13)"
      ]
     },
     "execution_count": 119,
     "metadata": {},
     "output_type": "execute_result"
    }
   ],
   "source": [
    "data.shape"
   ]
  },
  {
   "cell_type": "code",
   "execution_count": 120,
   "id": "3d44df10",
   "metadata": {},
   "outputs": [],
   "source": [
    "data=remove(data,index_list)"
   ]
  },
  {
   "cell_type": "code",
   "execution_count": 121,
   "id": "128cb75d",
   "metadata": {},
   "outputs": [
    {
     "data": {
      "text/plain": [
       "(163, 13)"
      ]
     },
     "execution_count": 121,
     "metadata": {},
     "output_type": "execute_result"
    }
   ],
   "source": [
    "data.shape"
   ]
  },
  {
   "cell_type": "code",
   "execution_count": 122,
   "id": "36baac9b",
   "metadata": {},
   "outputs": [
    {
     "data": {
      "image/png": "[encoded data removed]",
      "text/plain": [
       "<Figure size 720x540 with 6 Axes>"
      ]
     },
     "metadata": {},
     "output_type": "display_data"
    }
   ],
   "source": [
    "fig, axs = plt.subplots(2,3, figsize = (10,7.5))\n",
    "plt1 = sns.boxplot(data['Malic_Acid'], ax = axs[0,0])\n",
    "plt2 = sns.boxplot(data['Ash'], ax = axs[0,1])\n",
    "plt3 = sns.boxplot(data['Ash_Alcanity'], ax = axs[0,2])\n",
    "plt4 = sns.boxplot(data['Magnesium'], ax = axs[1,0])\n",
    "plt5 = sns.boxplot(data['Color_Intensity'], ax = axs[1,1])\n",
    "plt7 = sns.boxplot(data['Proline'], ax = axs[1,2])\n",
    "\n",
    "\n",
    "plt.tight_layout()"
   ]
  },
  {
   "cell_type": "code",
   "execution_count": 123,
   "id": "a0878184",
   "metadata": {},
   "outputs": [
    {
     "data": {
      "text/plain": [
       "Index(['Alcohol', 'Malic_Acid', 'Ash', 'Ash_Alcanity', 'Magnesium',\n",
       "       'Total_Phenols', 'Flavanoids', 'Nonflavanoid_Phenols',\n",
       "       'Proanthocyanins', 'Color_Intensity', 'Hue', 'OD280', 'Proline'],\n",
       "      dtype='object')"
      ]
     },
     "execution_count": 123,
     "metadata": {},
     "output_type": "execute_result"
    }
   ],
   "source": [
    "data.columns"
   ]
  },
  {
   "cell_type": "markdown",
   "id": "757fcad4",
   "metadata": {},
   "source": [
    "# Standard scaling"
   ]
  },
  {
   "cell_type": "code",
   "execution_count": 124,
   "id": "1e26c8ba",
   "metadata": {},
   "outputs": [],
   "source": [
    "from sklearn.preprocessing import StandardScaler\n",
    "scaler = StandardScaler()\n",
    "\n",
    "data_new=data.copy()\n",
    "data_new[data_new.columns]=scaler.fit_transform(data_new)"
   ]
  },
  {
   "cell_type": "code",
   "execution_count": 125,
   "id": "f9545fe7",
   "metadata": {},
   "outputs": [],
   "source": [
    "#data_new = pd.DataFrame(data_new)"
   ]
  },
  {
   "cell_type": "code",
   "execution_count": 126,
   "id": "58e39d99",
   "metadata": {},
   "outputs": [
    {
     "data": {
      "text/html": [
       "<div>\n",
       "<style scoped>\n",
       "    .dataframe tbody tr th:only-of-type {\n",
       "        vertical-align: middle;\n",
       "    }\n",
       "\n",
       "    .dataframe tbody tr th {\n",
       "        vertical-align: top;\n",
       "    }\n",
       "\n",
       "    .dataframe thead th {\n",
       "        text-align: right;\n",
       "    }\n",
       "</style>\n",
       "<table border=\"1\" class=\"dataframe\">\n",
       "  <thead>\n",
       "    <tr style=\"text-align: right;\">\n",
       "      <th></th>\n",
       "      <th>Alcohol</th>\n",
       "      <th>Malic_Acid</th>\n",
       "      <th>Ash</th>\n",
       "      <th>Ash_Alcanity</th>\n",
       "      <th>Magnesium</th>\n",
       "      <th>Total_Phenols</th>\n",
       "      <th>Flavanoids</th>\n",
       "      <th>Nonflavanoid_Phenols</th>\n",
       "      <th>Proanthocyanins</th>\n",
       "      <th>Color_Intensity</th>\n",
       "      <th>Hue</th>\n",
       "      <th>OD280</th>\n",
       "      <th>Proline</th>\n",
       "    </tr>\n",
       "  </thead>\n",
       "  <tbody>\n",
       "    <tr>\n",
       "      <th>0</th>\n",
       "      <td>1.486425</td>\n",
       "      <td>-0.574056</td>\n",
       "      <td>0.292319</td>\n",
       "      <td>-1.219144</td>\n",
       "      <td>2.314082</td>\n",
       "      <td>0.797997</td>\n",
       "      <td>1.035465</td>\n",
       "      <td>-0.644246</td>\n",
       "      <td>1.331426</td>\n",
       "      <td>0.310604</td>\n",
       "      <td>0.345572</td>\n",
       "      <td>1.833276</td>\n",
       "      <td>0.959213</td>\n",
       "    </tr>\n",
       "    <tr>\n",
       "      <th>1</th>\n",
       "      <td>0.222851</td>\n",
       "      <td>-0.507165</td>\n",
       "      <td>-0.900939</td>\n",
       "      <td>-2.689661</td>\n",
       "      <td>0.121558</td>\n",
       "      <td>0.560087</td>\n",
       "      <td>0.728553</td>\n",
       "      <td>-0.808584</td>\n",
       "      <td>-0.519238</td>\n",
       "      <td>-0.284247</td>\n",
       "      <td>0.390121</td>\n",
       "      <td>1.093472</td>\n",
       "      <td>0.912688</td>\n",
       "    </tr>\n",
       "    <tr>\n",
       "      <th>2</th>\n",
       "      <td>0.173780</td>\n",
       "      <td>0.047076</td>\n",
       "      <td>1.279844</td>\n",
       "      <td>-0.216518</td>\n",
       "      <td>0.202762</td>\n",
       "      <td>0.797997</td>\n",
       "      <td>1.219611</td>\n",
       "      <td>-0.479908</td>\n",
       "      <td>2.284243</td>\n",
       "      <td>0.329488</td>\n",
       "      <td>0.301022</td>\n",
       "      <td>0.766251</td>\n",
       "      <td>1.331413</td>\n",
       "    </tr>\n",
       "    <tr>\n",
       "      <th>3</th>\n",
       "      <td>1.658173</td>\n",
       "      <td>-0.344715</td>\n",
       "      <td>0.580347</td>\n",
       "      <td>-0.818093</td>\n",
       "      <td>1.177217</td>\n",
       "      <td>2.463369</td>\n",
       "      <td>1.475371</td>\n",
       "      <td>-0.972922</td>\n",
       "      <td>1.129868</td>\n",
       "      <td>1.330349</td>\n",
       "      <td>-0.456317</td>\n",
       "      <td>1.164607</td>\n",
       "      <td>2.246404</td>\n",
       "    </tr>\n",
       "    <tr>\n",
       "      <th>4</th>\n",
       "      <td>0.271922</td>\n",
       "      <td>0.266861</td>\n",
       "      <td>2.102780</td>\n",
       "      <td>0.585583</td>\n",
       "      <td>1.583240</td>\n",
       "      <td>0.797997</td>\n",
       "      <td>0.656941</td>\n",
       "      <td>0.259614</td>\n",
       "      <td>0.470226</td>\n",
       "      <td>-0.312574</td>\n",
       "      <td>0.345572</td>\n",
       "      <td>0.424803</td>\n",
       "      <td>-0.064336</td>\n",
       "    </tr>\n",
       "  </tbody>\n",
       "</table>\n",
       "</div>"
      ],
      "text/plain": [
       "    Alcohol  Malic_Acid       Ash  Ash_Alcanity  Magnesium  Total_Phenols  \\\n",
       "0  1.486425   -0.574056  0.292319     -1.219144   2.314082       0.797997   \n",
       "1  0.222851   -0.507165 -0.900939     -2.689661   0.121558       0.560087   \n",
       "2  0.173780    0.047076  1.279844     -0.216518   0.202762       0.797997   \n",
       "3  1.658173   -0.344715  0.580347     -0.818093   1.177217       2.463369   \n",
       "4  0.271922    0.266861  2.102780      0.585583   1.583240       0.797997   \n",
       "\n",
       "   Flavanoids  Nonflavanoid_Phenols  Proanthocyanins  Color_Intensity  \\\n",
       "0    1.035465             -0.644246         1.331426         0.310604   \n",
       "1    0.728553             -0.808584        -0.519238        -0.284247   \n",
       "2    1.219611             -0.479908         2.284243         0.329488   \n",
       "3    1.475371             -0.972922         1.129868         1.330349   \n",
       "4    0.656941              0.259614         0.470226        -0.312574   \n",
       "\n",
       "        Hue     OD280   Proline  \n",
       "0  0.345572  1.833276  0.959213  \n",
       "1  0.390121  1.093472  0.912688  \n",
       "2  0.301022  0.766251  1.331413  \n",
       "3 -0.456317  1.164607  2.246404  \n",
       "4  0.345572  0.424803 -0.064336  "
      ]
     },
     "execution_count": 126,
     "metadata": {},
     "output_type": "execute_result"
    }
   ],
   "source": [
    "data_new.head()"
   ]
  },
  {
   "cell_type": "code",
   "execution_count": 127,
   "id": "b5eb9375",
   "metadata": {},
   "outputs": [
    {
     "data": {
      "text/html": [
       "<div>\n",
       "<style scoped>\n",
       "    .dataframe tbody tr th:only-of-type {\n",
       "        vertical-align: middle;\n",
       "    }\n",
       "\n",
       "    .dataframe tbody tr th {\n",
       "        vertical-align: top;\n",
       "    }\n",
       "\n",
       "    .dataframe thead th {\n",
       "        text-align: right;\n",
       "    }\n",
       "</style>\n",
       "<table border=\"1\" class=\"dataframe\">\n",
       "  <thead>\n",
       "    <tr style=\"text-align: right;\">\n",
       "      <th></th>\n",
       "      <th>Alcohol</th>\n",
       "      <th>Malic_Acid</th>\n",
       "      <th>Ash</th>\n",
       "      <th>Ash_Alcanity</th>\n",
       "      <th>Magnesium</th>\n",
       "      <th>Total_Phenols</th>\n",
       "      <th>Flavanoids</th>\n",
       "      <th>Nonflavanoid_Phenols</th>\n",
       "      <th>Proanthocyanins</th>\n",
       "      <th>Color_Intensity</th>\n",
       "      <th>Hue</th>\n",
       "      <th>OD280</th>\n",
       "      <th>Proline</th>\n",
       "    </tr>\n",
       "  </thead>\n",
       "  <tbody>\n",
       "    <tr>\n",
       "      <th>count</th>\n",
       "      <td>1.630000e+02</td>\n",
       "      <td>1.630000e+02</td>\n",
       "      <td>1.630000e+02</td>\n",
       "      <td>1.630000e+02</td>\n",
       "      <td>1.630000e+02</td>\n",
       "      <td>1.630000e+02</td>\n",
       "      <td>1.630000e+02</td>\n",
       "      <td>1.630000e+02</td>\n",
       "      <td>1.630000e+02</td>\n",
       "      <td>1.630000e+02</td>\n",
       "      <td>1.630000e+02</td>\n",
       "      <td>1.630000e+02</td>\n",
       "      <td>1.630000e+02</td>\n",
       "    </tr>\n",
       "    <tr>\n",
       "      <th>mean</th>\n",
       "      <td>9.562903e-16</td>\n",
       "      <td>1.253258e-16</td>\n",
       "      <td>1.066631e-15</td>\n",
       "      <td>-5.394458e-16</td>\n",
       "      <td>-2.751718e-16</td>\n",
       "      <td>3.759774e-16</td>\n",
       "      <td>-4.236557e-16</td>\n",
       "      <td>-2.193201e-16</td>\n",
       "      <td>2.091034e-16</td>\n",
       "      <td>3.528193e-16</td>\n",
       "      <td>9.535658e-17</td>\n",
       "      <td>-2.642739e-16</td>\n",
       "      <td>1.048922e-16</td>\n",
       "    </tr>\n",
       "    <tr>\n",
       "      <th>std</th>\n",
       "      <td>1.003082e+00</td>\n",
       "      <td>1.003082e+00</td>\n",
       "      <td>1.003082e+00</td>\n",
       "      <td>1.003082e+00</td>\n",
       "      <td>1.003082e+00</td>\n",
       "      <td>1.003082e+00</td>\n",
       "      <td>1.003082e+00</td>\n",
       "      <td>1.003082e+00</td>\n",
       "      <td>1.003082e+00</td>\n",
       "      <td>1.003082e+00</td>\n",
       "      <td>1.003082e+00</td>\n",
       "      <td>1.003082e+00</td>\n",
       "      <td>1.003082e+00</td>\n",
       "    </tr>\n",
       "    <tr>\n",
       "      <th>min</th>\n",
       "      <td>-2.439242e+00</td>\n",
       "      <td>-1.500977e+00</td>\n",
       "      <td>-2.711400e+00</td>\n",
       "      <td>-2.689661e+00</td>\n",
       "      <td>-2.314580e+00</td>\n",
       "      <td>-2.088648e+00</td>\n",
       "      <td>-1.747197e+00</td>\n",
       "      <td>-1.876782e+00</td>\n",
       "      <td>-2.113374e+00</td>\n",
       "      <td>-1.747771e+00</td>\n",
       "      <td>-1.881896e+00</td>\n",
       "      <td>-1.936880e+00</td>\n",
       "      <td>-1.481796e+00</td>\n",
       "    </tr>\n",
       "    <tr>\n",
       "      <th>25%</th>\n",
       "      <td>-8.015028e-01</td>\n",
       "      <td>-6.743930e-01</td>\n",
       "      <td>-5.923378e-01</td>\n",
       "      <td>-7.011203e-01</td>\n",
       "      <td>-8.528973e-01</td>\n",
       "      <td>-8.990967e-01</td>\n",
       "      <td>-8.315789e-01</td>\n",
       "      <td>-7.674997e-01</td>\n",
       "      <td>-5.833700e-01</td>\n",
       "      <td>-8.177252e-01</td>\n",
       "      <td>-7.681621e-01</td>\n",
       "      <td>-8.556276e-01</td>\n",
       "      <td>-7.901251e-01</td>\n",
       "    </tr>\n",
       "    <tr>\n",
       "      <th>50%</th>\n",
       "      <td>3.883520e-02</td>\n",
       "      <td>-4.307181e-01</td>\n",
       "      <td>4.291389e-03</td>\n",
       "      <td>-8.283451e-02</td>\n",
       "      <td>-4.085139e-02</td>\n",
       "      <td>1.001267e-01</td>\n",
       "      <td>1.249612e-01</td>\n",
       "      <td>-1.512315e-01</td>\n",
       "      <td>-4.282955e-02</td>\n",
       "      <td>-1.331740e-01</td>\n",
       "      <td>7.827568e-02</td>\n",
       "      <td>2.540785e-01</td>\n",
       "      <td>-2.504356e-01</td>\n",
       "    </tr>\n",
       "    <tr>\n",
       "      <th>75%</th>\n",
       "      <td>8.362362e-01</td>\n",
       "      <td>7.207654e-01</td>\n",
       "      <td>6.832143e-01</td>\n",
       "      <td>5.855826e-01</td>\n",
       "      <td>6.087853e-01</td>\n",
       "      <td>7.979970e-01</td>\n",
       "      <td>8.768938e-01</td>\n",
       "      <td>5.882904e-01</td>\n",
       "      <td>5.893279e-01</td>\n",
       "      <td>5.584589e-01</td>\n",
       "      <td>7.019667e-01</td>\n",
       "      <td>7.733641e-01</td>\n",
       "      <td>8.429010e-01</td>\n",
       "    </tr>\n",
       "    <tr>\n",
       "      <th>max</th>\n",
       "      <td>2.222487e+00</td>\n",
       "      <td>2.751390e+00</td>\n",
       "      <td>2.308515e+00</td>\n",
       "      <td>2.590834e+00</td>\n",
       "      <td>2.882514e+00</td>\n",
       "      <td>2.510951e+00</td>\n",
       "      <td>1.925507e+00</td>\n",
       "      <td>2.478180e+00</td>\n",
       "      <td>3.695145e+00</td>\n",
       "      <td>2.614473e+00</td>\n",
       "      <td>3.330379e+00</td>\n",
       "      <td>1.947092e+00</td>\n",
       "      <td>2.866737e+00</td>\n",
       "    </tr>\n",
       "  </tbody>\n",
       "</table>\n",
       "</div>"
      ],
      "text/plain": [
       "            Alcohol    Malic_Acid           Ash  Ash_Alcanity     Magnesium  \\\n",
       "count  1.630000e+02  1.630000e+02  1.630000e+02  1.630000e+02  1.630000e+02   \n",
       "mean   9.562903e-16  1.253258e-16  1.066631e-15 -5.394458e-16 -2.751718e-16   \n",
       "std    1.003082e+00  1.003082e+00  1.003082e+00  1.003082e+00  1.003082e+00   \n",
       "min   -2.439242e+00 -1.500977e+00 -2.711400e+00 -2.689661e+00 -2.314580e+00   \n",
       "25%   -8.015028e-01 -6.743930e-01 -5.923378e-01 -7.011203e-01 -8.528973e-01   \n",
       "50%    3.883520e-02 -4.307181e-01  4.291389e-03 -8.283451e-02 -4.085139e-02   \n",
       "75%    8.362362e-01  7.207654e-01  6.832143e-01  5.855826e-01  6.087853e-01   \n",
       "max    2.222487e+00  2.751390e+00  2.308515e+00  2.590834e+00  2.882514e+00   \n",
       "\n",
       "       Total_Phenols    Flavanoids  Nonflavanoid_Phenols  Proanthocyanins  \\\n",
       "count   1.630000e+02  1.630000e+02          1.630000e+02     1.630000e+02   \n",
       "mean    3.759774e-16 -4.236557e-16         -2.193201e-16     2.091034e-16   \n",
       "std     1.003082e+00  1.003082e+00          1.003082e+00     1.003082e+00   \n",
       "min    -2.088648e+00 -1.747197e+00         -1.876782e+00    -2.113374e+00   \n",
       "25%    -8.990967e-01 -8.315789e-01         -7.674997e-01    -5.833700e-01   \n",
       "50%     1.001267e-01  1.249612e-01         -1.512315e-01    -4.282955e-02   \n",
       "75%     7.979970e-01  8.768938e-01          5.882904e-01     5.893279e-01   \n",
       "max     2.510951e+00  1.925507e+00          2.478180e+00     3.695145e+00   \n",
       "\n",
       "       Color_Intensity           Hue         OD280       Proline  \n",
       "count     1.630000e+02  1.630000e+02  1.630000e+02  1.630000e+02  \n",
       "mean      3.528193e-16  9.535658e-17 -2.642739e-16  1.048922e-16  \n",
       "std       1.003082e+00  1.003082e+00  1.003082e+00  1.003082e+00  \n",
       "min      -1.747771e+00 -1.881896e+00 -1.936880e+00 -1.481796e+00  \n",
       "25%      -8.177252e-01 -7.681621e-01 -8.556276e-01 -7.901251e-01  \n",
       "50%      -1.331740e-01  7.827568e-02  2.540785e-01 -2.504356e-01  \n",
       "75%       5.584589e-01  7.019667e-01  7.733641e-01  8.429010e-01  \n",
       "max       2.614473e+00  3.330379e+00  1.947092e+00  2.866737e+00  "
      ]
     },
     "execution_count": 127,
     "metadata": {},
     "output_type": "execute_result"
    }
   ],
   "source": [
    "data_new.describe()"
   ]
  },
  {
   "cell_type": "markdown",
   "id": "641376b4",
   "metadata": {},
   "source": [
    "### WCSS"
   ]
  },
  {
   "cell_type": "code",
   "execution_count": 128,
   "id": "473482d9",
   "metadata": {},
   "outputs": [
    {
     "name": "stdout",
     "output_type": "stream",
     "text": [
      "2119.0\n",
      "1486.3255196134971\n",
      "1104.501803374321\n",
      "1018.6575277901486\n",
      "959.1927392350169\n",
      "910.0562575827851\n",
      "862.4046345693873\n",
      "816.6447219723599\n",
      "783.7730901434561\n",
      "755.3438153341144\n"
     ]
    }
   ],
   "source": [
    "from sklearn.cluster import KMeans\n",
    "wcss = []\n",
    "for i in range(1,11):\n",
    "    kmeans = KMeans(n_clusters = i,init = 'k-means++', random_state = 42)\n",
    "    kmeans.fit(data_new)\n",
    "    wcss.append(kmeans.inertia_)\n",
    "    print(kmeans.inertia_)"
   ]
  },
  {
   "cell_type": "code",
   "execution_count": 129,
   "id": "92232be8",
   "metadata": {},
   "outputs": [
    {
     "data": {
      "image/png": "[encoded data removed]",
      "text/plain": [
       "<Figure size 432x288 with 1 Axes>"
      ]
     },
     "metadata": {},
     "output_type": "display_data"
    }
   ],
   "source": [
    "plt.plot(range(1, 11), wcss)\n",
    "plt.title('The Elbow Method')\n",
    "plt.xlabel('Number of clusters')\n",
    "plt.ylabel('WCSS')\n",
    "plt.show()"
   ]
  },
  {
   "cell_type": "markdown",
   "id": "cf13befa",
   "metadata": {},
   "source": [
    "## Optimal number of clusters as per the Eblow Method is 3"
   ]
  },
  {
   "cell_type": "markdown",
   "id": "80407a1d",
   "metadata": {},
   "source": [
    "### Applying the model"
   ]
  },
  {
   "cell_type": "code",
   "execution_count": 130,
   "id": "c333e1f6",
   "metadata": {},
   "outputs": [
    {
     "data": {
      "text/plain": [
       "pandas.core.frame.DataFrame"
      ]
     },
     "execution_count": 130,
     "metadata": {},
     "output_type": "execute_result"
    }
   ],
   "source": [
    "kmeans = KMeans(n_clusters = 3, init = 'k-means++', random_state = 42)\n",
    "y_kmeans = kmeans.fit_predict(data)\n",
    "type(data)"
   ]
  },
  {
   "cell_type": "code",
   "execution_count": 131,
   "id": "d52f654a",
   "metadata": {},
   "outputs": [
    {
     "data": {
      "text/plain": [
       "array([2, 2, 2, 2, 0, 2, 2, 2, 2, 2, 2, 2, 2, 2, 2, 2, 2, 2, 2, 0, 0, 0,\n",
       "       2, 2, 0, 2, 2, 0, 2, 2, 2, 2, 2, 2, 0, 0, 2, 2, 0, 0, 2, 2, 0, 0,\n",
       "       2, 2, 2, 2, 2, 2, 2, 2, 2, 2, 2, 2, 2, 2, 0, 1, 0, 1, 1, 0, 1, 1,\n",
       "       0, 0, 1, 1, 0, 1, 1, 1, 1, 1, 0, 0, 1, 1, 1, 1, 1, 0, 0, 1, 1, 1,\n",
       "       1, 1, 0, 1, 0, 1, 0, 1, 1, 1, 0, 1, 1, 1, 1, 0, 1, 1, 0, 1, 1, 1,\n",
       "       1, 1, 1, 1, 0, 1, 1, 1, 1, 1, 1, 0, 1, 1, 0, 0, 0, 0, 1, 1, 0, 0,\n",
       "       1, 1, 0, 0, 1, 0, 0, 1, 1, 1, 0, 0, 0, 1, 0, 1, 0, 1, 0, 0, 1, 0,\n",
       "       0, 0, 1, 1, 0, 0, 0, 0, 1])"
      ]
     },
     "execution_count": 131,
     "metadata": {},
     "output_type": "execute_result"
    }
   ],
   "source": [
    "y_kmeans"
   ]
  },
  {
   "cell_type": "markdown",
   "id": "aac5f0cc",
   "metadata": {},
   "source": [
    "## Checking the efficiency of the model using evaluation metric"
   ]
  },
  {
   "cell_type": "code",
   "execution_count": 132,
   "id": "2985f2b0",
   "metadata": {},
   "outputs": [],
   "source": [
    "from sklearn.metrics import silhouette_score"
   ]
  },
  {
   "cell_type": "code",
   "execution_count": 133,
   "id": "59572f36",
   "metadata": {},
   "outputs": [
    {
     "name": "stdout",
     "output_type": "stream",
     "text": [
      "0.11406249906975728\n"
     ]
    }
   ],
   "source": [
    "silhouette_kmeans = silhouette_score(data_new,y_kmeans)\n",
    "print(silhouette_kmeans)"
   ]
  },
  {
   "cell_type": "markdown",
   "id": "0365aada",
   "metadata": {},
   "source": [
    "## 2.Hierarchical Clustering Method"
   ]
  },
  {
   "cell_type": "markdown",
   "id": "4e517f0b",
   "metadata": {},
   "source": [
    "### Using dendrogram to find the number of clusters"
   ]
  },
  {
   "cell_type": "code",
   "execution_count": 134,
   "id": "7bb1d97a",
   "metadata": {},
   "outputs": [
    {
     "data": {
      "image/png": "[encoded data removed]",
      "text/plain": [
       "<Figure size 432x288 with 1 Axes>"
      ]
     },
     "metadata": {},
     "output_type": "display_data"
    }
   ],
   "source": [
    "#using the dendrogram to find the optimal number of clusters\n",
    "#dendrogram is present in scipy.cluster.hierarchy\n",
    "import scipy.cluster.hierarchy as sch\n",
    "dendrogram= sch.dendrogram(sch.linkage(data_new,method = 'ward'))#creating instance of dendrogram using x with ward method.ward method is used to take the distance between two clusters.\n",
    "plt.title('Dendrograph')\n",
    "\n",
    "plt.ylabel('Euclidean Distance')\n",
    "plt.show()"
   ]
  },
  {
   "cell_type": "markdown",
   "id": "8df3365d",
   "metadata": {},
   "source": [
    "## Optimum number of clusters is 2"
   ]
  },
  {
   "cell_type": "markdown",
   "id": "1b10a24a",
   "metadata": {},
   "source": [
    "## Fitting Agglomerative Clustering model"
   ]
  },
  {
   "cell_type": "code",
   "execution_count": 135,
   "id": "09ae33d9",
   "metadata": {},
   "outputs": [],
   "source": [
    "from sklearn.cluster import AgglomerativeClustering\n",
    "hc = AgglomerativeClustering(n_clusters= 2,affinity='euclidean', linkage ='ward')# creating an instance hc for agglomeartive clustering with no of clusters is 5,again taking ecludean distance as ward method.\n",
    "y_hc = hc.fit_predict(data)#fitting it to clustering"
   ]
  },
  {
   "cell_type": "code",
   "execution_count": 136,
   "id": "acf6b914",
   "metadata": {},
   "outputs": [
    {
     "data": {
      "text/plain": [
       "array([1, 1, 1, 1, 0, 1, 1, 1, 1, 1, 1, 1, 1, 1, 1, 1, 1, 1, 1, 0, 0, 0,\n",
       "       1, 1, 0, 1, 1, 0, 1, 1, 1, 1, 1, 1, 0, 0, 1, 1, 0, 0, 1, 1, 0, 0,\n",
       "       1, 1, 1, 1, 1, 1, 1, 1, 1, 1, 1, 1, 1, 1, 0, 0, 0, 0, 0, 0, 0, 0,\n",
       "       0, 0, 0, 0, 0, 0, 0, 0, 0, 0, 0, 0, 0, 0, 0, 0, 0, 0, 0, 0, 0, 0,\n",
       "       0, 0, 0, 0, 0, 0, 0, 0, 0, 0, 0, 0, 0, 0, 0, 0, 0, 0, 0, 0, 0, 0,\n",
       "       0, 0, 0, 0, 0, 0, 0, 0, 0, 0, 0, 0, 0, 0, 0, 0, 0, 0, 0, 0, 0, 0,\n",
       "       0, 0, 0, 0, 0, 0, 0, 0, 0, 0, 0, 0, 0, 0, 0, 0, 0, 0, 0, 0, 0, 0,\n",
       "       0, 0, 0, 0, 0, 0, 0, 0, 0], dtype=int64)"
      ]
     },
     "execution_count": 136,
     "metadata": {},
     "output_type": "execute_result"
    }
   ],
   "source": [
    "y_hc# all the datapoints are clustered into difeeeeeernt groups."
   ]
  },
  {
   "cell_type": "markdown",
   "id": "a2c83701",
   "metadata": {},
   "source": [
    "### Evaluation the Model"
   ]
  },
  {
   "cell_type": "code",
   "execution_count": 137,
   "id": "1330199f",
   "metadata": {},
   "outputs": [
    {
     "name": "stdout",
     "output_type": "stream",
     "text": [
      "0.6647101766557948\n"
     ]
    }
   ],
   "source": [
    "silhouette_hc = silhouette_score(data,y_hc)\n",
    "print(silhouette_hc)"
   ]
  },
  {
   "cell_type": "markdown",
   "id": "7a576636",
   "metadata": {},
   "source": [
    "### Inference:\n",
    "   \n",
    "     * KMeans Model has 3 optimum number of clusters with model efficiency 0.11406249906975728\n",
    "   \n",
    "     * Hierarchical Model has 2 optimum number of cluster with model eficiency 0.6647101766557948\n"
   ]
  },
  {
   "cell_type": "code",
   "execution_count": null,
   "id": "4cdf8f47",
   "metadata": {},
   "outputs": [],
   "source": []
  }
 ],
 "metadata": {
  "kernelspec": {
   "display_name": "Python 3",
   "language": "python",
   "name": "python3"
  },
  "language_info": {
   "codemirror_mode": {
    "name": "ipython",
    "version": 3
   },
   "file_extension": ".py",
   "mimetype": "text/x-python",
   "name": "python",
   "nbconvert_exporter": "python",
   "pygments_lexer": "ipython3",
   "version": "3.8.8"
  }
 },
 "nbformat": 4,
 "nbformat_minor": 5
}
